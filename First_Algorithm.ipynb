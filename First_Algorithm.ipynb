{
 "cells": [
  {
   "cell_type": "markdown",
   "metadata": {},
   "source": [
    "# First Algorithm"
   ]
  },
  {
   "cell_type": "code",
   "execution_count": 21,
   "metadata": {
    "collapsed": false
   },
   "outputs": [],
   "source": [
    "import numpy as np\n",
    "import scipy as sy\n",
    "import matplotlib as plt"
   ]
  },
  {
   "cell_type": "code",
   "execution_count": 15,
   "metadata": {
    "collapsed": false
   },
   "outputs": [],
   "source": [
    "def initialize(context):\n",
    "    \n",
    "    # Assortment of securities\n",
    "    context.security_list = [sid(5061), sid(7792), sid(1941),\n",
    "                             sid(24556), sid(1746)]\n",
    "    \n",
    "    # Rebalance every Monday at Market open\n",
    "    schedule_function(rebalance,\n",
    "                     dat_rules.week_start(days_offset = 0),\n",
    "                     time_rules.market_close())"
   ]
  },
  {
   "cell_type": "code",
   "execution_count": 6,
   "metadata": {
    "collapsed": false
   },
   "outputs": [],
   "source": [
    "def compute_weights(context, data):\n",
    "    '''Compute weights for each secutity that we want to order.\n",
    "    '''\n",
    "    \n",
    "    # Get the 30-day price history for each security in our list\n",
    "    \n",
    "    hist = data.history(context.security_list, 'price', 30, '1d')\n",
    "    \n",
    "    # Create 10-day and 30-day trailing windows.\n",
    "    prices_10 = hist[-10:]\n",
    "    prices_30 = hist\n",
    "    \n",
    "    # 10-day and 30-day simple moving average (SMA)\n",
    "    sma_10 = prices_10.mean()\n",
    "    sma_30 = prices_30.mean()\n",
    "    \n",
    "    # Weights are based on the relative difference between\n",
    "    # the short and long SMAs \n",
    "    raw_weights = (sma_30 - sma_10) / sma_30\n",
    "    \n",
    "    # Normalize our weights\n",
    "    normalized_weights = raw_weights / raw_weights.abs().sum()\n",
    "    \n",
    "    # Determine and log our long and short positions.\n",
    "    short_secs = normalized_weights.index[normalized_weights < 0]\n",
    "    \n",
    "    long_secs = normalized_weights.index[normalized_weights > 0]\n",
    "    \n",
    "    log.info(\"This weeks longs: \" + \", \".join([long_.symbol for\n",
    "                                               long_ in long_secs]))\n",
    "    \n",
    "    log.info(\"This weeks shorts: \" + \", \".join([short_.symbol for\n",
    "                                               short_ in short_secs]))\n",
    "    \n",
    "    # Return our normalized weights.\n",
    "    # These will be used when placing orders later.\n",
    "    return normalized_weights"
   ]
  },
  {
   "cell_type": "code",
   "execution_count": 8,
   "metadata": {
    "collapsed": true
   },
   "outputs": [],
   "source": [
    "def rebalance(context, data):\n",
    "    '''This function is called according to our schedule_function\n",
    "    setting and calls order_target_percent() on every security in weights.\n",
    "    '''\n",
    "    \n",
    "    # Calculate our target weights.\n",
    "    weights = compute_weights(context, data)\n",
    "    \n",
    "    # Place orders for each of our securities.\n",
    "    for security in context.security_list:\n",
    "        if data.can_trade(security):\n",
    "            order_target_percent(security, weights[security])"
   ]
  },
  {
   "cell_type": "code",
   "execution_count": null,
   "metadata": {
    "collapsed": true
   },
   "outputs": [],
   "source": [
    "def record_vars(context, data):\n",
    "    '''This function is called at the end of each day and plots our levarage\n",
    "    as well as the number of long and short positions we are holding.\n",
    "    '''\n",
    "    \n",
    "    # Check how many long and short positions we have.\n",
    "    longs = shorts = 0\n",
    "    for position in context.portfolio.positions.itervalues():\n",
    "        if position.amount > 0:\n",
    "            longs += 1\n",
    "        elif position.amount < 0:\n",
    "            shorts +=1\n",
    "    # Record our variables.\n",
    "    record(leverage = context.account.leverage, long_count = longs,\n",
    "          short_count = shorts)"
   ]
  }
 ],
 "metadata": {
  "kernelspec": {
   "display_name": "Python 2",
   "language": "python",
   "name": "python2"
  },
  "language_info": {
   "codemirror_mode": {
    "name": "ipython",
    "version": 2
   },
   "file_extension": ".py",
   "mimetype": "text/x-python",
   "name": "python",
   "nbconvert_exporter": "python",
   "pygments_lexer": "ipython2",
   "version": "2.7.12"
  }
 },
 "nbformat": 4,
 "nbformat_minor": 2
}